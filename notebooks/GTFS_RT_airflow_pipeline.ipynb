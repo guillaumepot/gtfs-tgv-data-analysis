{
 "cells": [
  {
   "cell_type": "markdown",
   "metadata": {},
   "source": [
    "### Data Loader"
   ]
  },
  {
   "cell_type": "code",
   "execution_count": 22,
   "metadata": {},
   "outputs": [],
   "source": [
    "import requests\n",
    "from google.transit import gtfs_realtime_pb2\n",
    "from google.protobuf.json_format import MessageToDict"
   ]
  },
  {
   "cell_type": "code",
   "execution_count": 225,
   "metadata": {},
   "outputs": [],
   "source": [
    "def get_gtfs_rt_data(gtfs_rt_url:str) -> gtfs_realtime_pb2.FeedMessage:\n",
    "    \"\"\"\n",
    "    Fetches GTFS-RT data from the given URL.\n",
    "    Args:\n",
    "        gtfs_rt_url (str): The URL to fetch the GTFS-RT data from.\n",
    "        verbose (bool, optional): Whether to print verbose output. Defaults to True.\n",
    "    Returns:\n",
    "        gtfs_realtime_pb2.FeedMessage: The parsed GTFS-RT data.\n",
    "    Raises:\n",
    "        ValueError: If an error occurs while fetching the GTFS-RT data.\n",
    "    \"\"\"\n",
    "\n",
    "\n",
    "    def fetch_data(url:str) -> requests.Response:\n",
    "        \"\"\"\n",
    "        Fetches GTFS-RT data from the given URL.\n",
    "        Args:\n",
    "            url (str): The URL to fetch the data from.\n",
    "        Returns:\n",
    "            requests.Response: The response object containing the fetched data.\n",
    "        Raises:\n",
    "            requests.exceptions.RequestException: If an error occurs while fetching the data.\n",
    "        \"\"\"\n",
    "        try:\n",
    "            response = requests.get(url)\n",
    "            response.raise_for_status()\n",
    "            return response\n",
    "        \n",
    "        except requests.exceptions.RequestException as e:\n",
    "            return None\n",
    "\n",
    "\n",
    "    # Get response\n",
    "    response = fetch_data(gtfs_rt_url)\n",
    "\n",
    "    # Parse GTFS RT Datas\n",
    "    feed = gtfs_realtime_pb2.FeedMessage()\n",
    "    feed.ParseFromString(response.content)\n",
    "    \n",
    "    # Convert FeedMessage to dictionary\n",
    "    feed_dict = MessageToDict(feed)\n",
    "    \n",
    "    \n",
    "    return feed_dict\n",
    "\n",
    "feed_dict = get_gtfs_rt_data(gtfs_rt_url=\"https://proxy.transport.data.gouv.fr/resource/sncf-tgv-gtfs-rt-trip-updates\")"
   ]
  },
  {
   "cell_type": "markdown",
   "metadata": {},
   "source": [
    "### Transformer"
   ]
  },
  {
   "cell_type": "code",
   "execution_count": 227,
   "metadata": {},
   "outputs": [],
   "source": [
    "def transform_feed(feed_dict:dict) -> list:\n",
    "    \"\"\"\n",
    "\n",
    "    \"\"\"\n",
    "    # Remove Header key\n",
    "    del feed_dict['header']\n",
    "    # Remove entity key and keep the list value as dictionary\n",
    "    feed_dict = feed_dict['entity']\n",
    "\n",
    "    all_trip_data = []\n",
    "    all_stop_times_data = []\n",
    "\n",
    "    for elt in feed_dict:\n",
    "        trip_id = elt['tripUpdate']['trip']['tripId']\n",
    "        departure_date = elt['tripUpdate']['trip']['startDate']\n",
    "        departure_time = elt['tripUpdate']['trip']['startTime']\n",
    "        updated_at = elt['tripUpdate']['timestamp']\n",
    "\n",
    "        trip_data = {\n",
    "            'trip_id': trip_id,\n",
    "            'departure_date' : departure_date,\n",
    "            'departure_time' : departure_time,\n",
    "        }\n",
    "\n",
    "        all_trip_data.append(trip_data)\n",
    "\n",
    "\n",
    "        for stop_time_update in elt['tripUpdate']['stopTimeUpdate']:\n",
    "            stop_id = stop_time_update['stopId']\n",
    "            arrival_time = stop_time_update['arrival']['time'] if 'arrival' in stop_time_update else None\n",
    "            departure_time = stop_time_update['departure']['time'] if 'departure' in stop_time_update else None\n",
    "            delay_arrival = int(stop_time_update['arrival']['delay']/60 if 'arrival' in stop_time_update else 0)\n",
    "            delay_departure = int(stop_time_update['departure']['delay']/60 if 'departure' in stop_time_update else 0)\n",
    "\n",
    "            stop_times_data = {\n",
    "                'trip_id': trip_id,\n",
    "                'stop_id': stop_id,\n",
    "                'arrival_time': arrival_time,\n",
    "                'departure_time': departure_time,\n",
    "                'delay_arrival': delay_arrival,\n",
    "                'delay_departure': delay_departure,\n",
    "                'update_time': updated_at,\n",
    "            }\n",
    "\n",
    "            all_stop_times_data.append(stop_times_data)\n",
    "\n",
    "    return all_trip_data, all_stop_times_data\n",
    "\n",
    "all_trip_data, all_stop_times_data = transform_feed(feed_dict)"
   ]
  }
 ],
 "metadata": {
  "kernelspec": {
   "display_name": "train-delay-pred",
   "language": "python",
   "name": "python3"
  },
  "language_info": {
   "codemirror_mode": {
    "name": "ipython",
    "version": 3
   },
   "file_extension": ".py",
   "mimetype": "text/x-python",
   "name": "python",
   "nbconvert_exporter": "python",
   "pygments_lexer": "ipython3",
   "version": "3.12.4"
  }
 },
 "nbformat": 4,
 "nbformat_minor": 2
}
