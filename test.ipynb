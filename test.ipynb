{
 "cells": [
  {
   "cell_type": "code",
   "execution_count": 1,
   "metadata": {},
   "outputs": [],
   "source": [
    "# LIB\n",
    "import ast\n",
    "from datetime import datetime\n",
    "from dotenv import load_dotenv\n",
    "from exceptiongroup import ExceptionGroup\n",
    "from google.transit import gtfs_realtime_pb2\n",
    "from google.protobuf.json_format import MessageToDict\n",
    "import json\n",
    "import os\n",
    "import pandas as pd\n",
    "import requests\n",
    "from typing import Optional\n",
    "import zipfile"
   ]
  },
  {
   "cell_type": "code",
   "execution_count": 2,
   "metadata": {},
   "outputs": [],
   "source": [
    "GTFS_RT_URL=\"https://proxy.transport.data.gouv.fr/resource/sncf-tgv-gtfs-rt-trip-updates\"\n"
   ]
  },
  {
   "cell_type": "code",
   "execution_count": 4,
   "metadata": {},
   "outputs": [],
   "source": [
    "def get_gtfs_rt_data(gtfs_rt_url:str) -> gtfs_realtime_pb2.FeedMessage:\n",
    "    \"\"\"\n",
    "    \n",
    "    \"\"\"\n",
    "\n",
    "    feed = gtfs_realtime_pb2.FeedMessage()\n",
    "\n",
    "    # Get feed\n",
    "    try:\n",
    "        response = requests.get(gtfs_rt_url)\n",
    "        feed.ParseFromString(response.content)\n",
    "\n",
    "    except requests.exceptions.RequestException as e:\n",
    "        raise ValueError(f\"Error while fetching GTFS-RT data: {e}\")\n",
    "    # Convert FeedMessage to dictionary\n",
    "    feed_dict = MessageToDict(feed)\n",
    "    \n",
    "    \n",
    "    return feed_dict"
   ]
  },
  {
   "cell_type": "code",
   "execution_count": 39,
   "metadata": {},
   "outputs": [],
   "source": [
    "feed_dict = get_gtfs_rt_data(GTFS_RT_URL)\n",
    "del feed_dict['header']\n",
    "feed_dict = feed_dict['entity']\n"
   ]
  }
 ],
 "metadata": {
  "kernelspec": {
   "display_name": "train-delay-pred",
   "language": "python",
   "name": "python3"
  },
  "language_info": {
   "codemirror_mode": {
    "name": "ipython",
    "version": 3
   },
   "file_extension": ".py",
   "mimetype": "text/x-python",
   "name": "python",
   "nbconvert_exporter": "python",
   "pygments_lexer": "ipython3",
   "version": "3.12.4"
  }
 },
 "nbformat": 4,
 "nbformat_minor": 2
}
